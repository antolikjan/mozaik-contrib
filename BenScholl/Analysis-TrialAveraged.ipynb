{
 "cells": [
  {
   "cell_type": "code",
   "execution_count": 1,
   "id": "b49b6f61-5cd1-4b3a-bfad-2fe3689f8253",
   "metadata": {},
   "outputs": [],
   "source": [
    "import sys\n",
    "import matplotlib.animation\n",
    "import numpy\n",
    "import mozaik\n",
    "logger = mozaik.getMozaikLogger()\n",
    "from mozaik.controller import run_workflow, setup_logging\n",
    "from mozaik.storage.datastore import Hdf5DataStore,PickledDataStore\n",
    "from parameters import ParameterSet\n",
    "from mozaik.visualization.plotting import *\n",
    "from mozaik.analysis.technical import NeuronAnnotationsToPerNeuronValues\n",
    "from mozaik.tools.mozaik_parametrized import colapse, colapse_to_dictionary, MozaikParametrized\n",
    "from mozaik.analysis.analysis import *\n",
    "from mozaik.analysis.vision import *\n",
    "from mozaik.storage.queries import *\n",
    "from mozaik.visualization.helper_functions import *\n",
    "\n",
    "\n",
    "%matplotlib inline\n",
    "\n",
    "spont = True\n",
    "stim_sheet_name = \"V1_Exc_L2/3\"\n",
    "\n",
    "if not spont:\n",
    "    ddir_vis = '/home/antolikjan/projects/mozaikluca/mozaik-contrib/BenScholl/PROPER_VIS_0_2_T20/SelfSustainedPushPull_ParameterSearch_____null_stimulus_period:150_trial:1'\n",
    "    #ddir_vis = '/home/antolikjan/projects/mozaikluca/mozaik-contrib/BenScholl/PROPER_VIS_2_4_T20/SelfSustainedPushPull_ParameterSearch_____null_stimulus_period:150_trial:1'\n",
    "    #ddir_vis = '/home/antolikjan/projects/mozaikluca/mozaik-contrib/BenScholl/PROPER_VIS_8_64_T20/SelfSustainedPushPull_ParameterSearch_____null_stimulus_period:150_trial:1'\n",
    "    \n",
    "    data_store_vis = PickledDataStore(load=True,parameters=ParameterSet({'root_directory':ddir_vis,'store_stimuli': None}),replace=True)\n",
    "\n",
    "    #ddir = '/home/antolikjan/projects/mozaikluca/mozaik-contrib/BenScholl/GRAT_STIM=0.06_EXC_LARGE_90N_C64_8/SelfSustainedPushPull_ParameterSearch_____null_stimulus_period:150_trial:1'\n",
    "    #ddir = '/home/antolikjan/projects/mozaikluca/mozaik-contrib/BenScholl/GRAT_STIM=0.06_EXC_LARGE_90N_C4_2/SelfSustainedPushPull_ParameterSearch_____null_stimulus_period:150_trial:1'\n",
    "    ddir = '/home/antolikjan/projects/mozaikluca/mozaik-contrib/BenScholl/GRAT_STIM=0.06_EXC_LARGE_90N_C0_2/SelfSustainedPushPull_ParameterSearch_____null_stimulus_period:150_trial:1'\n",
    "    \n",
    "    #ddir = '/home/antolikjan/projects/mozaikluca/mozaik-contrib/BenScholl/GRAT_STIM=0.06_EXC_LARGE_60stimneurons/SelfSustainedPushPull_ParameterSearch_____null_stimulus_period:150_trial:1'\n",
    "    #ddir = '/home/antolikjan/projects/mozaikluca/mozaik-contrib/BenScholl/GRAT_STIM=0.06_EXC_LARGE/SelfSustainedPushPull_ParameterSearch_____null_stimulus_period:150_trial:1'\n",
    "    #ddir = '/home/antolikjan/projects/mozaikluca/mozaik-contrib/BenScholl/GRAT_STIM=0.06_EXC_LARGE_1mstim/SelfSustainedPushPull_ParameterSearch_____null_stimulus_period:150_trial:1'\n",
    "    #ddir = '/home/antolikjan/projects/mozaikluca/mozaik-contrib/BenScholl/GRAT_STIM=0.06_EXC_LARGE_C2_4/SelfSustainedPushPull_ParameterSearch_____null_stimulus_period:150_trial:1'\n",
    "else:\n",
    "    ddir = '/home/antolikjan/projects/mozaikluca/mozaik-contrib/BenScholl/SPONT_STIM=0.06_EXC_LARGE_90N/SelfSustainedPushPull_ParameterSearch_____null_stimulus_period:150_trial:1'\n",
    "    #ddir = '/home/antolikjan/projects/mozaikluca/mozaik-contrib/BenScholl/SPONT_STIM=0.06_EXC_LARGE/SelfSustainedPushPull_ParameterSearch_____null_stimulus_period:150_trial:1'\n",
    "    data_store_vis = None\n",
    "\n",
    "setup_logging()\n",
    "data_store = PickledDataStore(load=True,parameters=ParameterSet({'root_directory':ddir,'store_stimuli': None}),replace=True)"
   ]
  },
  {
   "cell_type": "code",
   "execution_count": 41,
   "id": "2d295a57-e750-4254-870c-99c98eac6256",
   "metadata": {},
   "outputs": [],
   "source": [
    "#dsv = param_filter_query(data_store,sheet_name=stim_sheet_name,st_trial=0,st_direct_stimulation_name='Injection',st_contrast=4)\n",
    "#stim_ids = dsv.get_stimuli()\n",
    "#idd = MozaikParametrized.idd(stim_ids[0]).direct_stimulation_parameters.population_selector.params.list_of_ids[0]"
   ]
  },
  {
   "cell_type": "code",
   "execution_count": 42,
   "id": "eefba1d2-5f16-4427-b461-b5dfa75653f5",
   "metadata": {},
   "outputs": [],
   "source": [
    "#stim_ids[113]"
   ]
  },
  {
   "cell_type": "code",
   "execution_count": 43,
   "id": "bc061ac5-51ea-498a-9d86-fb0ae8649ce0",
   "metadata": {},
   "outputs": [],
   "source": [
    "#dsv = param_filter_query(data_store,sheet_name=stim_sheet_name,st_trial=0,st_orientation=numpy.pi/8*0,st_direct_stimulation_name='Injection',st_current=0.1)\n",
    "#dsv.print_content()\n",
    "#OverviewPlot(dsv, ParameterSet({'sheet_name': stim_sheet_name, 'neuron': idd, 'sheet_activity': {}, 'spontaneous': True}), fig_param={'dpi': 100, 'figsize': (24, 6)}).plot()"
   ]
  },
  {
   "cell_type": "code",
   "execution_count": 2,
   "id": "ade94e93-2131-49fa-91a3-fb052faebce2",
   "metadata": {},
   "outputs": [],
   "source": [
    "def calculate_binned_statistics(x, y, bins=10):\n",
    "    \"\"\"\n",
    "    Calculate mean and variance of y values binned by x values.\n",
    "    \n",
    "    Parameters:\n",
    "    -----------\n",
    "    x : array-like\n",
    "        The values to bin by\n",
    "    y : array-like\n",
    "        The values to calculate statistics for\n",
    "    bins : int or array-like\n",
    "        If int, number of bins to create\n",
    "        If array-like, the bin edges to use\n",
    "        \n",
    "    Returns:\n",
    "    --------\n",
    "        bin_edges : array\n",
    "            The edges of the bins\n",
    "        bin_centers : array\n",
    "            The centers of the bins\n",
    "        means : array\n",
    "            Mean of y values in each bin\n",
    "        variances : array\n",
    "            Variance of y values in each bin\n",
    "        counts : array\n",
    "            Number of points in each bin\n",
    "    \"\"\"\n",
    "    \n",
    "    # Convert inputs to numpy arrays\n",
    "    x = numpy.array(x)\n",
    "    y = numpy.array(y)\n",
    "    \n",
    "    # Create bins and get bin indices for each x value\n",
    "    bin_edges = numpy.linspace(0,600,13)\n",
    "    bin_indices = numpy.digitize(x, bin_edges) - 1\n",
    "    \n",
    "    # Calculate bin centers\n",
    "    bin_centers = (bin_edges[1:] + bin_edges[:-1]) / 2\n",
    "    \n",
    "    # Initialize arrays for results\n",
    "    n_bins = len(bin_centers)\n",
    "    means = numpy.zeros(n_bins)\n",
    "    sem = numpy.zeros(n_bins)\n",
    "    counts = numpy.zeros(n_bins)\n",
    "    raw = []\n",
    "    # Calculate statistics for each bin\n",
    "    for i in range(n_bins):\n",
    "        mask = bin_indices == i\n",
    "        if numpy.any(mask):\n",
    "            raw.append(y[mask])\n",
    "            means[i] = numpy.mean(y[mask])\n",
    "            sem[i] = numpy.std(y[mask], ddof=1) / numpy.sqrt(numpy.size(y[mask]))\n",
    "            counts[i] = numpy.sum(mask)\n",
    "        else:\n",
    "            raw.append([])\n",
    "            \n",
    "    return (bin_edges,bin_centers,means,sem,counts,raw)"
   ]
  },
  {
   "cell_type": "code",
   "execution_count": null,
   "id": "c8fc47b2-1b46-426d-8bf5-89eb332cefc1",
   "metadata": {},
   "outputs": [],
   "source": [
    "def analyse_distance_dependence(stim_sheet_name,read_sheet_name,contrast=None,data_store_vis=None,at_optimal_or=False):\n",
    "\n",
    "    ids = param_filter_query(data_store,sheet_name=read_sheet_name).get_segments()[0].get_stored_spike_train_ids()\n",
    "    \n",
    "    dsv = param_filter_query(data_store,sheet_name=read_sheet_name,st_direct_stimulation_name=None,analysis_algorithm='TrialAveragedFiringRate',value_name='Firing rate',st_name='InternalStimulus',ads_unique=True)\n",
    "    spont_rates = dsv.get_analysis_result()[0].get_value_by_id(ids)\n",
    "    \n",
    "    if contrast != None:\n",
    "        dsv = param_filter_query(data_store,sheet_name=read_sheet_name,st_direct_stimulation_name='Injection',analysis_algorithm='TrialAveragedFiringRate',value_name='Firing rate',st_contrast=contrast)\n",
    "    else:\n",
    "        dsv = param_filter_query(data_store,sheet_name=read_sheet_name,st_direct_stimulation_name='Injection',analysis_algorithm='TrialAveragedFiringRate',value_name='Firing rate')\n",
    "    adss = dsv.get_analysis_result()\n",
    "    \n",
    "    pos = dsv.get_neuron_positions()[read_sheet_name]\n",
    "    posx = pos[0,data_store.get_sheet_indexes(read_sheet_name,ids)]*1000\n",
    "    posy = pos[1,data_store.get_sheet_indexes(read_sheet_name,ids)]*1000\n",
    "\n",
    "    pos = dsv.get_neuron_positions()[stim_sheet_name]\n",
    "\n",
    "    ### Load up and organise the only vision data\n",
    "    if data_store_vis != None:\n",
    "        vis_resp = {}\n",
    "        for ads in param_filter_query(data_store_vis,sheet_name=read_sheet_name,analysis_algorithm='TrialAveragedFiringRate',st_name='FullfieldDriftingSinusoidalGrating',value_name='Firing rate').get_analysis_result():\n",
    "            orr = MozaikParametrized.idd(ads.stimulus_id).orientation\n",
    "            contr = MozaikParametrized.idd(ads.stimulus_id).contrast\n",
    "            if contr not in vis_resp:\n",
    "               vis_resp[contr] = {}\n",
    "            if orr not in vis_resp[contr]:\n",
    "                vis_resp[contr][orr] = []\n",
    "            vis_resp[contr][orr].append(ads.get_value_by_id(ids))\n",
    "            \n",
    "        for c in vis_resp.keys():\n",
    "            for o in vis_resp[c].keys():\n",
    "                vis_resp[c][o] = numpy.mean(vis_resp[c][o],axis=0)\n",
    "\n",
    "            if at_optimal_or:\n",
    "                k = sorted(vis_resp[c].keys())\n",
    "                argmax = numpy.argmax(numpy.array([vis_resp[c][o] for o in k]),axis=0)\n",
    "                mmax = numpy.max(numpy.array([vis_resp[c][o] for o in k]),axis=0)\n",
    "        \n",
    "                for o in vis_resp[c].keys():\n",
    "                    i = numpy.argmax(numpy.array(k) == o)\n",
    "                    vis_resp[c][o] = ((argmax == i),mmax[(argmax == i)])\n",
    "\n",
    "\n",
    "    resps = []\n",
    "    dist = []\n",
    "\n",
    "    for ads in adss:\n",
    "            \n",
    "            stimulated_idd = MozaikParametrized.idd(ads.stimulus_id).direct_stimulation_parameters.population_selector.params.list_of_ids[0]\n",
    "            stimulated_idx = data_store.get_sheet_indexes(stim_sheet_name,[stimulated_idd])[0]\n",
    "             \n",
    "            r = numpy.array(ads.get_value_by_id(ids))\n",
    "    \n",
    "            # if visually stimulated, divide by the pure visual stimulation, otherwise subtract the pure spontaneous activity    \n",
    "            if data_store_vis != None:\n",
    "                o = MozaikParametrized.idd(ads.stimulus_id).orientation\n",
    "                c = MozaikParametrized.idd(ads.stimulus_id).contrast\n",
    "                if at_optimal_or:\n",
    "                    # pick only responses of neurosn that like the orientation of the grating being presented\n",
    "                    r = r[vis_resp[c][o][0]]\n",
    "                    # subtact the grating response to the grating with optimal orientation  alone for the picked neurons\n",
    "                    r = r / vis_resp[c][o][1]\n",
    "                    d = numpy.sqrt(numpy.power(posx - pos[0,stimulated_idx]*1000,2) + numpy.power(posy - pos[1,stimulated_idx]*1000,2))[vis_resp[c][o][0]]\n",
    "                else:\n",
    "                    r = r - vis_resp[c][o]\n",
    "                    d = numpy.sqrt(numpy.power(posx - pos[0,stimulated_idx]*1000,2) + numpy.power(posy - pos[1,stimulated_idx]*1000,2))\n",
    "            else:\n",
    "                r = r - spont_rates\n",
    "                d = numpy.sqrt(numpy.power(posx - pos[0,stimulated_idx]*1000,2) + numpy.power(posy - pos[1,stimulated_idx]*1000,2))\n",
    "\n",
    "            resps.extend(r.tolist())\n",
    "            dist.extend(d.tolist())\n",
    "\n",
    "\n",
    "    # remove the stimulated neuron\n",
    "    if stim_sheet_name == read_sheet_name:\n",
    "       resps = numpy.array(resps)[numpy.array(dist) != 0]\n",
    "       dist = numpy.array(dist)[numpy.array(dist) != 0]\n",
    "    (bin_edges,bin_centers,means,variances,counts,raw) = calculate_binned_statistics(dist,resps,20)\n",
    "\n",
    "    return means,variances,bin_edges,raw\n",
    "\n",
    "if not spont:\n",
    "    exc_rates_64,exc_sem_64,exc_bin_edges_64,exc_raw_64 = analyse_distance_dependence(stim_sheet_name,\"V1_Exc_L2/3\",contrast=2,data_store_vis=data_store_vis)\n",
    "    inh_rates_64,inh_sem_64,inh_bin_edges_64,inh_raw_64 = analyse_distance_dependence(stim_sheet_name,\"V1_Inh_L2/3\",contrast=2,data_store_vis=data_store_vis)\n",
    "    exc_rates_8,exc_sem_8,exc_bin_edges_8,exc_raw_8 = analyse_distance_dependence(stim_sheet_name,\"V1_Exc_L2/3\",contrast=0,data_store_vis=data_store_vis)\n",
    "    inh_rates_8,inh_sem_8,inh_bin_edges_8,inh_raw_8 = analyse_distance_dependence(stim_sheet_name,\"V1_Inh_L2/3\",contrast=0,data_store_vis=data_store_vis)\n",
    "else:\n",
    "    exc_rates,exc_sem,exc_bin_edges,exc_raw = analyse_distance_dependence(stim_sheet_name,\"V1_Exc_L2/3\",data_store_vis=data_store_vis)\n",
    "    inh_rates,inh_sem,inh_bin_edges,inh_raw = analyse_distance_dependence(stim_sheet_name,\"V1_Inh_L2/3\",data_store_vis=data_store_vis)"
   ]
  },
  {
   "cell_type": "code",
   "execution_count": 5,
   "id": "478f732b-da80-4506-8148-eb68e3dd25fd",
   "metadata": {},
   "outputs": [
    {
     "ename": "ValueError",
     "evalue": "Result was expected to have only single ADS, it contains 0",
     "output_type": "error",
     "traceback": [
      "\u001b[0;31m---------------------------------------------------------------------------\u001b[0m",
      "\u001b[0;31mValueError\u001b[0m                                Traceback (most recent call last)",
      "Cell \u001b[0;32mIn[5], line 1\u001b[0m\n\u001b[0;32m----> 1\u001b[0m dsv \u001b[38;5;241m=\u001b[39m \u001b[43mparam_filter_query\u001b[49m\u001b[43m(\u001b[49m\u001b[43mdata_store\u001b[49m\u001b[43m,\u001b[49m\u001b[43msheet_name\u001b[49m\u001b[38;5;241;43m=\u001b[39;49m\u001b[38;5;124;43m'\u001b[39;49m\u001b[38;5;124;43mV1_Exc_L2/3\u001b[39;49m\u001b[38;5;124;43m'\u001b[39;49m\u001b[43m,\u001b[49m\u001b[43mst_direct_stimulation_name\u001b[49m\u001b[38;5;241;43m=\u001b[39;49m\u001b[38;5;28;43;01mNone\u001b[39;49;00m\u001b[43m,\u001b[49m\u001b[43manalysis_algorithm\u001b[49m\u001b[38;5;241;43m=\u001b[39;49m\u001b[38;5;124;43m'\u001b[39;49m\u001b[38;5;124;43mTrialAveragedFiringRate\u001b[39;49m\u001b[38;5;124;43m'\u001b[39;49m\u001b[43m,\u001b[49m\u001b[43mvalue_name\u001b[49m\u001b[38;5;241;43m=\u001b[39;49m\u001b[38;5;124;43m'\u001b[39;49m\u001b[38;5;124;43mFiring rate\u001b[39;49m\u001b[38;5;124;43m'\u001b[39;49m\u001b[43m,\u001b[49m\u001b[43mst_name\u001b[49m\u001b[38;5;241;43m=\u001b[39;49m\u001b[38;5;124;43m'\u001b[39;49m\u001b[38;5;124;43mInternalStimulus\u001b[39;49m\u001b[38;5;124;43m'\u001b[39;49m\u001b[43m,\u001b[49m\u001b[43mads_unique\u001b[49m\u001b[38;5;241;43m=\u001b[39;49m\u001b[38;5;28;43;01mTrue\u001b[39;49;00m\u001b[43m)\u001b[49m\n",
      "File \u001b[0;32m~/virt_env/mozaikluca/lib/python3.12/site-packages/mozaik/storage/queries.py:130\u001b[0m, in \u001b[0;36mparam_filter_query\u001b[0;34m(dsv, ads_unique, rec_unique, negative, **kwargs)\u001b[0m\n\u001b[1;32m    127\u001b[0m new_dsv\u001b[38;5;241m.\u001b[39manalysis_results \u001b[38;5;241m=\u001b[39m \u001b[38;5;28mlist\u001b[39m(ads)\n\u001b[1;32m    129\u001b[0m \u001b[38;5;28;01mif\u001b[39;00m ads_unique \u001b[38;5;129;01mand\u001b[39;00m \u001b[38;5;28mlen\u001b[39m(ads) \u001b[38;5;241m!=\u001b[39m \u001b[38;5;241m1\u001b[39m:\n\u001b[0;32m--> 130\u001b[0m    \u001b[38;5;28;01mraise\u001b[39;00m \u001b[38;5;167;01mValueError\u001b[39;00m(\u001b[38;5;124m\"\u001b[39m\u001b[38;5;124mResult was expected to have only single ADS, it contains \u001b[39m\u001b[38;5;132;01m%d\u001b[39;00m\u001b[38;5;124m\"\u001b[39m \u001b[38;5;241m%\u001b[39m \u001b[38;5;28mlen\u001b[39m(ads)) \n\u001b[1;32m    132\u001b[0m \u001b[38;5;28;01mif\u001b[39;00m rec_unique \u001b[38;5;129;01mand\u001b[39;00m \u001b[38;5;28mlen\u001b[39m(seg) \u001b[38;5;241m!=\u001b[39m \u001b[38;5;241m1\u001b[39m:\n\u001b[1;32m    133\u001b[0m    \u001b[38;5;28;01mraise\u001b[39;00m \u001b[38;5;167;01mValueError\u001b[39;00m(\u001b[38;5;124m\"\u001b[39m\u001b[38;5;124mResult was expected to have only single Segment, it contains \u001b[39m\u001b[38;5;132;01m%d\u001b[39;00m\u001b[38;5;124m\"\u001b[39m \u001b[38;5;241m%\u001b[39m \u001b[38;5;28mlen\u001b[39m(seg)) \n",
      "\u001b[0;31mValueError\u001b[0m: Result was expected to have only single ADS, it contains 0"
     ]
    }
   ],
   "source": [
    "dsv = param_filter_query(data_store,sheet_name='V1_Exc_L2/3',st_direct_stimulation_name=None,analysis_algorithm='TrialAveragedFiringRate',value_name='Firing rate',st_name='InternalStimulus',ads_unique=True)"
   ]
  },
  {
   "cell_type": "code",
   "execution_count": 11,
   "id": "86f6e79e-c276-4c2b-b314-fe3719985701",
   "metadata": {},
   "outputs": [],
   "source": [
    "dsv = param_filter_query(data_store,sheet_name='V1_Exc_L2/3',analysis_algorithm='TrialAveragedFiringRate',st_direct_stimulation_name=None)"
   ]
  },
  {
   "cell_type": "code",
   "execution_count": 12,
   "id": "26f57eb1-04a3-4a69-9810-caa56a969a5b",
   "metadata": {},
   "outputs": [
    {
     "name": "stderr",
     "output_type": "stream",
     "text": [
      "  DSV info:\n",
      "     Number of recordings: 0\n",
      "     Number of ADS: 0\n",
      "  ANALYSIS RESULTS\n"
     ]
    }
   ],
   "source": [
    "dsv.print_content(full_ADS=True)"
   ]
  },
  {
   "cell_type": "code",
   "execution_count": null,
   "id": "a1cd74f5-72b8-4e60-8c6c-402aaeaeb31d",
   "metadata": {},
   "outputs": [],
   "source": [
    "stim_label = \"E\" if stim_sheet_name == 'V1_Exc_L2/3' else \"I\" \n",
    "\n",
    "def flatten_raws(edges,raws):\n",
    "    new_edges = []\n",
    "    new_raws = []\n",
    "    for e,r in zip(edges,raws):\n",
    "        new_edges.extend([e]*len(r))\n",
    "        new_raws.extend(r)\n",
    "    return new_edges,new_raws\n",
    "\n",
    "if not spont:\n",
    "    single_edges_exc_64,single_rates_exc_64 = flatten_raws(exc_bin_edges_64[:-1],exc_raw_64)\n",
    "    single_edges_inh_64,single_rates_inh_64 = flatten_raws(inh_bin_edges_64[:-1],inh_raw_64)\n",
    "\n",
    "    single_edges_exc_8,single_rates_exc_8 = flatten_raws(exc_bin_edges_8[:-1],exc_raw_8)\n",
    "    single_edges_inh_8,single_rates_inh_8 = flatten_raws(inh_bin_edges_8[:-1],inh_raw_8)\n",
    "    \n",
    "    pylab.figure(figsize=(12,4))\n",
    "\n",
    "    pylab.subplot(1,2,1)\n",
    "    #pylab.plot(single_edges_exc_64,single_rates_exc_64,'ro',markerfacecolor='none')\n",
    "    #pylab.plot(single_edges_inh_64,single_rates_inh_64,'bo',markerfacecolor='none')\n",
    "    pylab.errorbar(exc_bin_edges_64[:-1],exc_rates_64,yerr=1.96*exc_sem_64,fmt='o-r',label=stim_label+\"->E\",capsize=5,capthick=1.5,elinewidth=1.5)\n",
    "    pylab.errorbar(inh_bin_edges_64[:-1],inh_rates_64,yerr=1.96*inh_sem_64,fmt='x-b',label=stim_label+\"->I\",capsize=5,capthick=1.5,elinewidth=1.5)\n",
    "    #pylab.plot([exc_bin_edges_64[0],exc_bin_edges_64[-1]],[0,0],'k-')\n",
    "    pylab.xlabel('distance from stimulated neuron')\n",
    "    pylab.ylabel('Response relative to visual stim alone')\n",
    "    pylab.legend()\n",
    "    pylab.title('Grating contrast: 2')\n",
    "    \n",
    "    pylab.subplot(1,2,2)\n",
    "    #pylab.plot(single_edges_exc_8,single_rates_exc_8,'ro',markerfacecolor='none')\n",
    "    #pylab.plot(single_edges_inh_8,single_rates_inh_8,'bo',markerfacecolor='none')\n",
    "    pylab.errorbar(exc_bin_edges_8[:-1],exc_rates_8,yerr=1.96*exc_sem_8,fmt='x-r',label=stim_label+\"->E\",capsize=5,capthick=1.5,elinewidth=1.5)\n",
    "    pylab.errorbar(inh_bin_edges_8[:-1],inh_rates_8,yerr=1.96*inh_sem_8,fmt='x-b',label=stim_label+\"->I\",capsize=5,capthick=1.5,elinewidth=1.5)\n",
    "    #pylab.plot([exc_bin_edges_8[0],exc_bin_edges_8[-1]],[0,0],'k-')\n",
    "    pylab.xlabel('distance from stimulated neuron')\n",
    "    pylab.ylabel('Response relative to visual stim alone')\n",
    "    pylab.legend()\n",
    "    pylab.title('Grating contrast: 0')\n",
    "    \n",
    "else:\n",
    "    single_edges_exc,single_rates_exc = flatten_raws(exc_bin_edges[:-1],exc_raw)\n",
    "    single_edges_inh,single_rates_inh = flatten_raws(exc_bin_edges[:-1],inh_raw)\n",
    "\n",
    "    pylab.figure(figsize=(12,4))\n",
    "    #pylab.plot(single_edges_exc,single_rates_exc,'ro',markerfacecolor='none')\n",
    "    #pylab.plot(single_edges_inh,single_rates_inh,'bo',markerfacecolor='none')\n",
    "    pylab.errorbar(exc_bin_edges[:-1],exc_rates,yerr=1.96*exc_sem,fmt='o-r',label=stim_label+\"->E\",capsize=5,capthick=1.5,elinewidth=1.5)\n",
    "    pylab.errorbar(inh_bin_edges[:-1],inh_rates,yerr=1.96*inh_sem,fmt='x-b',label=stim_label+\"->I\",capsize=5,capthick=1.5,elinewidth=1.5)\n",
    "    #pylab.plot([exc_bin_edges[0],exc_bin_edges[-1]],[0,0],'k-')    \n",
    "    pylab.xlabel('distance from stimulated neuron')\n",
    "    pylab.ylabel('Spont/vis subtracted response (sp/s)')\n",
    "    pylab.legend()\n",
    "    \n"
   ]
  },
  {
   "cell_type": "code",
   "execution_count": null,
   "id": "39dd1e74-0aeb-4b23-bf1a-444d48b3982b",
   "metadata": {},
   "outputs": [],
   "source": [
    "pylab.hist(exc_raw_64[5],bins=[*range(-10,10)])\n",
    "pylab.xticks([*range(-10,10)])\n",
    "print(numpy.mean(exc_raw_64[5]))"
   ]
  },
  {
   "cell_type": "code",
   "execution_count": 39,
   "id": "292aacc2-f0d5-4c23-990d-66044e37bc50",
   "metadata": {},
   "outputs": [
    {
     "name": "stdout",
     "output_type": "stream",
     "text": [
      "{\"module_path\" :\"mozaik.stimuli.vision.topographica_based\",\"background_luminance\":50.0, \"contrast\":2, \"density\":20.0, \"direct_stimulation_name\":None, \"direct_stimulation_parameters\":None, \"duration\":500, \"frame_duration\":10.0, \"location_x\":0.0, \"location_y\":0.0, \"name\":'FullfieldDriftingSinusoidalGrating', \"orientation\":0.0, \"size_x\":11.0, \"size_y\":11.0, \"spatial_frequency\":0.8, \"temporal_frequency\":2, \"trial\":3}\n",
      "{\"module_path\" :\"mozaik.stimuli.vision.topographica_based\",\"background_luminance\":50.0, \"contrast\":0, \"density\":20.0, \"direct_stimulation_name\":None, \"direct_stimulation_parameters\":None, \"duration\":500, \"frame_duration\":10.0, \"location_x\":0.0, \"location_y\":0.0, \"name\":'FullfieldDriftingSinusoidalGrating', \"orientation\":0.0, \"size_x\":11.0, \"size_y\":11.0, \"spatial_frequency\":0.8, \"temporal_frequency\":2, \"trial\":16}\n"
     ]
    }
   ],
   "source": [
    "print(data_store_vis.get_segments()[10].annotations['stimulus'])\n",
    "print(data_store_vis.get_segments()[300].annotations['stimulus'])"
   ]
  },
  {
   "cell_type": "code",
   "execution_count": 40,
   "id": "05359009-3e0a-46ad-b717-1dd247ab1f59",
   "metadata": {},
   "outputs": [
    {
     "name": "stdout",
     "output_type": "stream",
     "text": [
      "{\"module_path\" :\"mozaik.stimuli.vision.topographica_based\",\"background_luminance\":50.0, \"contrast\":0, \"density\":20.0, \"direct_stimulation_name\":'Injection', \"direct_stimulation_parameters\":MozaikExtendedParameterSet({'current': 0.06, 'onset': 0, 'population_selector': {'component': 'mozaik.sheets.population_selector.IDList', 'params': {'list_of_ids': [94320]}}}), \"duration\":500, \"frame_duration\":10.0, \"location_x\":0.0, \"location_y\":0.0, \"name\":'FullfieldDriftingSinusoidalGrating', \"orientation\":0.0, \"size_x\":11.0, \"size_y\":11.0, \"spatial_frequency\":0.8, \"temporal_frequency\":2, \"trial\":0}\n",
      "{\"module_path\" :\"mozaik.stimuli.vision.topographica_based\",\"background_luminance\":50.0, \"contrast\":2, \"density\":20.0, \"direct_stimulation_name\":'Injection', \"direct_stimulation_parameters\":MozaikExtendedParameterSet({'current': 0.06, 'onset': 0, 'population_selector': {'component': 'mozaik.sheets.population_selector.IDList', 'params': {'list_of_ids': [74099]}}}), \"duration\":500, \"frame_duration\":10.0, \"location_x\":0.0, \"location_y\":0.0, \"name\":'FullfieldDriftingSinusoidalGrating', \"orientation\":0.7853981633974483, \"size_x\":11.0, \"size_y\":11.0, \"spatial_frequency\":0.8, \"temporal_frequency\":2, \"trial\":5}\n"
     ]
    }
   ],
   "source": [
    "print(data_store.get_segments()[10].annotations['stimulus'])\n",
    "print(data_store.get_segments()[10000].annotations['stimulus'])"
   ]
  },
  {
   "cell_type": "code",
   "execution_count": 42,
   "id": "d4345647-b8ba-4f56-88e0-4c3fdaadf1ae",
   "metadata": {},
   "outputs": [
    {
     "name": "stdout",
     "output_type": "stream",
     "text": [
      "{\"module_path\" :\"mozaik.stimuli.vision.topographica_based\",\"background_luminance\":50.0, \"contrast\":4, \"density\":20.0, \"direct_stimulation_name\":None, \"direct_stimulation_parameters\":None, \"duration\":500, \"frame_duration\":10.0, \"location_x\":0.0, \"location_y\":0.0, \"name\":'FullfieldDriftingSinusoidalGrating', \"orientation\":0.0, \"size_x\":11.0, \"size_y\":11.0, \"spatial_frequency\":0.8, \"temporal_frequency\":2, \"trial\":3}\n",
      "{\"module_path\" :\"mozaik.stimuli.vision.topographica_based\",\"background_luminance\":50.0, \"contrast\":2, \"density\":20.0, \"direct_stimulation_name\":None, \"direct_stimulation_parameters\":None, \"duration\":500, \"frame_duration\":10.0, \"location_x\":0.0, \"location_y\":0.0, \"name\":'FullfieldDriftingSinusoidalGrating', \"orientation\":0.0, \"size_x\":11.0, \"size_y\":11.0, \"spatial_frequency\":0.8, \"temporal_frequency\":2, \"trial\":16}\n"
     ]
    }
   ],
   "source": [
    "print(data_store_vis.get_segments()[10].annotations['stimulus'])\n",
    "print(data_store_vis.get_segments()[300].annotations['stimulus'])"
   ]
  },
  {
   "cell_type": "code",
   "execution_count": 43,
   "id": "746d23d2-de52-4c86-81f6-cd1cc8de5e6d",
   "metadata": {},
   "outputs": [
    {
     "name": "stdout",
     "output_type": "stream",
     "text": [
      "{\"module_path\" :\"mozaik.stimuli.vision.topographica_based\",\"background_luminance\":50.0, \"contrast\":2, \"density\":20.0, \"direct_stimulation_name\":'Injection', \"direct_stimulation_parameters\":MozaikExtendedParameterSet({'current': 0.06, 'population_selector': {'component': 'mozaik.sheets.population_selector.IDList', 'params': {'list_of_ids': [71256]}}}), \"duration\":500, \"frame_duration\":10.0, \"location_x\":0.0, \"location_y\":0.0, \"name\":'FullfieldDriftingSinusoidalGrating', \"orientation\":0.0, \"size_x\":11.0, \"size_y\":11.0, \"spatial_frequency\":0.8, \"temporal_frequency\":2, \"trial\":0}\n",
      "{\"module_path\" :\"mozaik.stimuli.vision.topographica_based\",\"background_luminance\":50.0, \"contrast\":4, \"density\":20.0, \"direct_stimulation_name\":'Injection', \"direct_stimulation_parameters\":MozaikExtendedParameterSet({'current': 0.06, 'population_selector': {'component': 'mozaik.sheets.population_selector.IDList', 'params': {'list_of_ids': [90618]}}}), \"duration\":500, \"frame_duration\":10.0, \"location_x\":0.0, \"location_y\":0.0, \"name\":'FullfieldDriftingSinusoidalGrating', \"orientation\":0.7853981633974483, \"size_x\":11.0, \"size_y\":11.0, \"spatial_frequency\":0.8, \"temporal_frequency\":2, \"trial\":5}\n"
     ]
    }
   ],
   "source": [
    "print(data_store.get_segments()[10].annotations['stimulus'])\n",
    "print(data_store.get_segments()[10000].annotations['stimulus'])"
   ]
  },
  {
   "cell_type": "code",
   "execution_count": null,
   "id": "6dbf8d73-ba2d-4660-89ea-e05e658e098c",
   "metadata": {},
   "outputs": [],
   "source": [
    "{\"module_path\" :\"mozaik.stimuli.vision.topographica_based\",\"background_luminance\":50.0, \"contrast\":2, \"density\":20.0, \"direct_stimulation_name\":'Injection', \"direct_stimulation_parameters\":MozaikExtendedParameterSet({'current': 0.06, 'onset': 0, 'population_selector': {'component': 'mozaik.sheets.population_selector.IDList', 'params': {'list_of_ids': [74099]}}}), \"duration\":500, \"frame_duration\":10.0, \"location_x\":0.0, \"location_y\":0.0, \"name\":'FullfieldDriftingSinusoidalGrating', \"orientation\":0.7853981633974483, \"size_x\":11.0, \"size_y\":11.0, \"spatial_frequency\":0.8, \"temporal_frequency\":2, \"trial\":5}\n",
    "{\"module_path\" :\"mozaik.stimuli.vision.topographica_based\",\"background_luminance\":50.0, \"contrast\":2, \"density\":20.0, \"direct_stimulation_name\":'Injection', \"direct_stimulation_parameters\":MozaikExtendedParameterSet({'current': 0.06, 'population_selector': {'component': 'mozaik.sheets.population_selector.IDList', 'params': {'list_of_ids': [71256]}}}), \"duration\":500, \"frame_duration\":10.0, \"location_x\":0.0, \"location_y\":0.0, \"name\":'FullfieldDriftingSinusoidalGrating', \"orientation\":0.0, \"size_x\":11.0, \"size_y\":11.0, \"spatial_frequency\":0.8, \"temporal_frequency\":2, \"trial\":0}"
   ]
  },
  {
   "cell_type": "code",
   "execution_count": 100,
   "id": "e8d68706-c247-45e2-b628-691c17549f97",
   "metadata": {},
   "outputs": [
    {
     "ename": "AssertionError",
     "evalue": "Error, empty datastore!",
     "output_type": "error",
     "traceback": [
      "\u001b[0;31m---------------------------------------------------------------------------\u001b[0m",
      "\u001b[0;31mAssertionError\u001b[0m                            Traceback (most recent call last)",
      "Cell \u001b[0;32mIn[100], line 4\u001b[0m\n\u001b[1;32m      1\u001b[0m ids \u001b[38;5;241m=\u001b[39m param_filter_query(data_store,sheet_name\u001b[38;5;241m=\u001b[39m\u001b[38;5;124m'\u001b[39m\u001b[38;5;124mX_ON\u001b[39m\u001b[38;5;124m'\u001b[39m)\u001b[38;5;241m.\u001b[39mget_segments()[\u001b[38;5;241m0\u001b[39m]\u001b[38;5;241m.\u001b[39mget_stored_spike_train_ids()\n\u001b[1;32m      3\u001b[0m dsv \u001b[38;5;241m=\u001b[39m param_filter_query(data_store,sheet_name\u001b[38;5;241m=\u001b[39mstim_sheet_name,st_trial\u001b[38;5;241m=\u001b[39m\u001b[38;5;241m0\u001b[39m,st_orientation\u001b[38;5;241m=\u001b[39m\u001b[38;5;241m0\u001b[39m,st_contrast\u001b[38;5;241m=\u001b[39m\u001b[38;5;241m0\u001b[39m,st_direct_stimulation_name\u001b[38;5;241m=\u001b[39m\u001b[38;5;124m'\u001b[39m\u001b[38;5;124mInjection\u001b[39m\u001b[38;5;124m'\u001b[39m)\n\u001b[0;32m----> 4\u001b[0m \u001b[43mRasterPlot\u001b[49m\u001b[43m(\u001b[49m\u001b[43mdsv\u001b[49m\u001b[43m,\u001b[49m\u001b[43mParameterSet\u001b[49m\u001b[43m(\u001b[49m\u001b[43m{\u001b[49m\u001b[38;5;124;43m'\u001b[39;49m\u001b[38;5;124;43msheet_name\u001b[39;49m\u001b[38;5;124;43m'\u001b[39;49m\u001b[43m \u001b[49m\u001b[43m:\u001b[49m\u001b[43m \u001b[49m\u001b[38;5;124;43m'\u001b[39;49m\u001b[38;5;124;43mX_ON\u001b[39;49m\u001b[38;5;124;43m'\u001b[39;49m\u001b[43m,\u001b[49m\u001b[43m \u001b[49m\u001b[38;5;124;43m'\u001b[39;49m\u001b[38;5;124;43mneurons\u001b[39;49m\u001b[38;5;124;43m'\u001b[39;49m\u001b[43m \u001b[49m\u001b[43m:\u001b[49m\u001b[43m \u001b[49m\u001b[43mids\u001b[49m\u001b[43m,\u001b[49m\u001b[43m \u001b[49m\u001b[38;5;124;43m'\u001b[39;49m\u001b[38;5;124;43mtrial_averaged_histogram\u001b[39;49m\u001b[38;5;124;43m'\u001b[39;49m\u001b[43m \u001b[49m\u001b[43m:\u001b[49m\u001b[43m \u001b[49m\u001b[38;5;28;43;01mFalse\u001b[39;49;00m\u001b[43m,\u001b[49m\u001b[43m \u001b[49m\u001b[38;5;124;43m'\u001b[39;49m\u001b[38;5;124;43mspontaneous\u001b[39;49m\u001b[38;5;124;43m'\u001b[39;49m\u001b[43m \u001b[49m\u001b[43m:\u001b[49m\u001b[43m \u001b[49m\u001b[38;5;28;43;01mTrue\u001b[39;49;00m\u001b[43m}\u001b[49m\u001b[43m)\u001b[49m\u001b[43m,\u001b[49m\u001b[43mfig_param\u001b[49m\u001b[38;5;241;43m=\u001b[39;49m\u001b[43m{\u001b[49m\u001b[38;5;124;43m'\u001b[39;49m\u001b[38;5;124;43mdpi\u001b[39;49m\u001b[38;5;124;43m'\u001b[39;49m\u001b[43m \u001b[49m\u001b[43m:\u001b[49m\u001b[43m \u001b[49m\u001b[38;5;241;43m200\u001b[39;49m\u001b[43m,\u001b[49m\u001b[38;5;124;43m'\u001b[39;49m\u001b[38;5;124;43mfigsize\u001b[39;49m\u001b[38;5;124;43m'\u001b[39;49m\u001b[43m:\u001b[49m\u001b[43m \u001b[49m\u001b[43m(\u001b[49m\u001b[38;5;241;43m34\u001b[39;49m\u001b[43m,\u001b[49m\u001b[38;5;241;43m20\u001b[39;49m\u001b[43m)\u001b[49m\u001b[43m}\u001b[49m\u001b[43m)\u001b[49m\u001b[38;5;241;43m.\u001b[39;49m\u001b[43mplot\u001b[49m\u001b[43m(\u001b[49m\u001b[43m)\u001b[49m\n",
      "File \u001b[0;32m~/virt_env/mozaikluca/lib/python3.12/site-packages/mozaik/visualization/plotting.py:164\u001b[0m, in \u001b[0;36mPlotting.plot\u001b[0;34m(self, params)\u001b[0m\n\u001b[1;32m    162\u001b[0m gs \u001b[38;5;241m=\u001b[39m gridspec\u001b[38;5;241m.\u001b[39mGridSpec(\u001b[38;5;241m1\u001b[39m, \u001b[38;5;241m1\u001b[39m)\n\u001b[1;32m    163\u001b[0m gs\u001b[38;5;241m.\u001b[39mupdate(left\u001b[38;5;241m=\u001b[39m\u001b[38;5;241m0.05\u001b[39m, right\u001b[38;5;241m=\u001b[39m\u001b[38;5;241m0.95\u001b[39m, top\u001b[38;5;241m=\u001b[39m\u001b[38;5;241m0.95\u001b[39m, bottom\u001b[38;5;241m=\u001b[39m\u001b[38;5;241m0.05\u001b[39m)\n\u001b[0;32m--> 164\u001b[0m \u001b[38;5;28;43mself\u001b[39;49m\u001b[38;5;241;43m.\u001b[39;49m\u001b[43m_handle_parameters_and_execute_plots\u001b[49m\u001b[43m(\u001b[49m\u001b[43mOrderedDict\u001b[49m\u001b[43m(\u001b[49m\u001b[43m)\u001b[49m\u001b[43m,\u001b[49m\u001b[43m \u001b[49m\u001b[43mparams\u001b[49m\u001b[43m,\u001b[49m\u001b[43mgs\u001b[49m\u001b[43m[\u001b[49m\u001b[38;5;241;43m0\u001b[39;49m\u001b[43m,\u001b[49m\u001b[43m \u001b[49m\u001b[38;5;241;43m0\u001b[39;49m\u001b[43m]\u001b[49m\u001b[43m)\u001b[49m\n\u001b[1;32m    166\u001b[0m \u001b[38;5;66;03m# ANIMATION Handling\u001b[39;00m\n\u001b[1;32m    167\u001b[0m \u001b[38;5;28;01mif\u001b[39;00m \u001b[38;5;28mself\u001b[39m\u001b[38;5;241m.\u001b[39manimation_update_functions \u001b[38;5;241m!=\u001b[39m []:\n",
      "File \u001b[0;32m~/virt_env/mozaikluca/lib/python3.12/site-packages/mozaik/visualization/plotting.py:128\u001b[0m, in \u001b[0;36mPlotting._handle_parameters_and_execute_plots\u001b[0;34m(self, parameters, user_parameters, gs)\u001b[0m\n\u001b[1;32m    127\u001b[0m \u001b[38;5;28;01mdef\u001b[39;00m\u001b[38;5;250m \u001b[39m\u001b[38;5;21m_handle_parameters_and_execute_plots\u001b[39m(\u001b[38;5;28mself\u001b[39m,parameters,user_parameters,gs):\n\u001b[0;32m--> 128\u001b[0m     d \u001b[38;5;241m=\u001b[39m \u001b[38;5;28;43mself\u001b[39;49m\u001b[38;5;241;43m.\u001b[39;49m\u001b[43msubplot\u001b[49m\u001b[43m(\u001b[49m\u001b[43mgs\u001b[49m\u001b[43m)\u001b[49m\n\u001b[1;32m    129\u001b[0m     \u001b[38;5;28;01mfor\u001b[39;00m (k,(pl,gs,p)) \u001b[38;5;129;01min\u001b[39;00m d\u001b[38;5;241m.\u001b[39mitems():\n\u001b[1;32m    130\u001b[0m         p\u001b[38;5;241m.\u001b[39mupdate(parameters)\n",
      "File \u001b[0;32m~/virt_env/mozaikluca/lib/python3.12/site-packages/mozaik/visualization/plotting.py:601\u001b[0m, in \u001b[0;36mRasterPlot.subplot\u001b[0;34m(self, subplotspec)\u001b[0m\n\u001b[1;32m    599\u001b[0m \u001b[38;5;28;01mdef\u001b[39;00m\u001b[38;5;250m \u001b[39m\u001b[38;5;21msubplot\u001b[39m(\u001b[38;5;28mself\u001b[39m, subplotspec):\n\u001b[1;32m    600\u001b[0m     dsv \u001b[38;5;241m=\u001b[39m queries\u001b[38;5;241m.\u001b[39mparam_filter_query(\u001b[38;5;28mself\u001b[39m\u001b[38;5;241m.\u001b[39mdatastore,sheet_name\u001b[38;5;241m=\u001b[39m\u001b[38;5;28mself\u001b[39m\u001b[38;5;241m.\u001b[39mparameters\u001b[38;5;241m.\u001b[39msheet_name)\n\u001b[0;32m--> 601\u001b[0m     \u001b[38;5;28;01mreturn\u001b[39;00m \u001b[43mPerStimulusPlot\u001b[49m\u001b[43m(\u001b[49m\u001b[43mdsv\u001b[49m\u001b[43m,\u001b[49m\u001b[43m \u001b[49m\u001b[43mfunction\u001b[49m\u001b[38;5;241;43m=\u001b[39;49m\u001b[38;5;28;43mself\u001b[39;49m\u001b[38;5;241;43m.\u001b[39;49m\u001b[43m_ploter\u001b[49m\u001b[43m)\u001b[49m\u001b[38;5;241m.\u001b[39mmake_line_plot(subplotspec)\n",
      "File \u001b[0;32m~/virt_env/mozaikluca/lib/python3.12/site-packages/mozaik/visualization/plot_constructors.py:170\u001b[0m, in \u001b[0;36mPerStimulusPlot.__init__\u001b[0;34m(self, datastore, single_trial, **params)\u001b[0m\n\u001b[1;32m    168\u001b[0m PerDSVPlot\u001b[38;5;241m.\u001b[39m\u001b[38;5;21m__init__\u001b[39m(\u001b[38;5;28mself\u001b[39m, datastore, \u001b[38;5;241m*\u001b[39m\u001b[38;5;241m*\u001b[39mparams)\n\u001b[1;32m    169\u001b[0m ss \u001b[38;5;241m=\u001b[39m \u001b[38;5;28mself\u001b[39m\u001b[38;5;241m.\u001b[39m_get_stimulus_ids()\n\u001b[0;32m--> 170\u001b[0m \u001b[38;5;28;01massert\u001b[39;00m ss \u001b[38;5;241m!=\u001b[39m [], \u001b[38;5;124m\"\u001b[39m\u001b[38;5;124mError, empty datastore!\u001b[39m\u001b[38;5;124m\"\u001b[39m\n\u001b[1;32m    171\u001b[0m \u001b[38;5;28;01mif\u001b[39;00m \u001b[38;5;28mself\u001b[39m\u001b[38;5;241m.\u001b[39mtitle_style \u001b[38;5;241m==\u001b[39m \u001b[38;5;124m\"\u001b[39m\u001b[38;5;124mClever\u001b[39m\u001b[38;5;124m\"\u001b[39m:\n\u001b[1;32m    172\u001b[0m     stimulus \u001b[38;5;241m=\u001b[39m MozaikParametrized\u001b[38;5;241m.\u001b[39midd(ss[\u001b[38;5;241m0\u001b[39m])\n",
      "\u001b[0;31mAssertionError\u001b[0m: Error, empty datastore!"
     ]
    },
    {
     "data": {
      "text/plain": [
       "<Figure size 6800x4000 with 0 Axes>"
      ]
     },
     "metadata": {},
     "output_type": "display_data"
    }
   ],
   "source": [
    "ids = param_filter_query(data_store,sheet_name='X_ON').get_segments()[0].get_stored_spike_train_ids()\n",
    "    \n",
    "dsv = param_filter_query(data_store,sheet_name=stim_sheet_name,st_trial=0,st_orientation=0,st_contrast=0,st_direct_stimulation_name='Injection')\n",
    "RasterPlot(dsv,ParameterSet({'sheet_name' : 'X_ON', 'neurons' : ids, 'trial_averaged_histogram' : False, 'spontaneous' : True}),fig_param={'dpi' : 200,'figsize': (34,20)}).plot()\n"
   ]
  },
  {
   "cell_type": "code",
   "execution_count": null,
   "id": "b35c6993-8e1b-4d02-8ee6-ce8672d5c245",
   "metadata": {},
   "outputs": [],
   "source": [
    "dsv = param_filter_query(data_store,sheet_name=stim_sheet_name,st_direct_stimulation_name=None)\n",
    "RasterPlot(dsv,ParameterSet({'sheet_name' : 'X_ON', 'neurons' : ids[:100], 'trial_averaged_histogram' : False, 'spontaneous' : True}),fig_param={'dpi' : 200,'figsize': (34,20)}).plot()\n"
   ]
  },
  {
   "cell_type": "code",
   "execution_count": null,
   "id": "dd5eb31b-e4b4-4053-8530-eb01cf545919",
   "metadata": {},
   "outputs": [],
   "source": []
  }
 ],
 "metadata": {
  "kernelspec": {
   "display_name": "Python 3 (ipykernel)",
   "language": "python",
   "name": "python3"
  },
  "language_info": {
   "codemirror_mode": {
    "name": "ipython",
    "version": 3
   },
   "file_extension": ".py",
   "mimetype": "text/x-python",
   "name": "python",
   "nbconvert_exporter": "python",
   "pygments_lexer": "ipython3",
   "version": "3.12.3"
  }
 },
 "nbformat": 4,
 "nbformat_minor": 5
}
